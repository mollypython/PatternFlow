{
 "cells": [
  {
   "cell_type": "code",
   "execution_count": 1,
   "metadata": {},
   "outputs": [],
   "source": [
    "#load data\n",
    "import os\n",
    "import sys\n",
    "import random\n",
    "import warnings\n",
    "from skimage.io import imread, imshow, imread_collection, concatenate_images\n",
    "from skimage.transform import resize\n",
    "from skimage.morphology import label\n",
    "import numpy as np\n",
    "import pandas as pd\n",
    "os.chdir('C:/Users/s4547877/Downloads/')"
   ]
  },
  {
   "cell_type": "code",
   "execution_count": 2,
   "metadata": {},
   "outputs": [],
   "source": [
    "input_PATH='./ISIC2018_Task1-2_Training_Input_x2/'\n",
    "\n",
    "input_ids = next(os.walk(input_PATH))[2]  "
   ]
  },
  {
   "cell_type": "code",
   "execution_count": 3,
   "metadata": {},
   "outputs": [],
   "source": [
    "truth_PATH='./ISIC2018_Task1_Training_GroundTruth_x2/'\n",
    "truth_ids = next(os.walk(truth_PATH))[2] "
   ]
  },
  {
   "cell_type": "code",
   "execution_count": 21,
   "metadata": {},
   "outputs": [],
   "source": [
    "image_size=[256,256]\n",
    "#image_resize=[256,256]"
   ]
  },
  {
   "cell_type": "code",
   "execution_count": 22,
   "metadata": {},
   "outputs": [],
   "source": [
    "X_input = np.zeros((len(input_ids), image_size[0],image_size[1],3), dtype=np.uint8)\n",
    "Y_input = np.zeros((len(input_ids), image_size[0],image_size[1],1), dtype=np.uint8)"
   ]
  },
  {
   "cell_type": "code",
   "execution_count": 23,
   "metadata": {},
   "outputs": [
    {
     "name": "stdout",
     "output_type": "stream",
     "text": [
      "./ISIC2018_Task1-2_Training_Input_x2/ISIC_0000000.jpg\n"
     ]
    }
   ],
   "source": [
    "print(input_PATH + input_ids[0])"
   ]
  },
  {
   "cell_type": "code",
   "execution_count": 27,
   "metadata": {},
   "outputs": [
    {
     "name": "stdout",
     "output_type": "stream",
     "text": [
      "(384, 511, 3)\n",
      "(384, 511)\n"
     ]
    }
   ],
   "source": [
    "import matplotlib.pyplot as plt\n",
    "img = imread(input_PATH + input_ids[1])\n",
    "#img = resize(img, (IMG_HEIGHT, IMG_WIDTH), mode='constant', preserve_range=True)\n",
    "print(img.shape)\n",
    "# plt.imshow(img)\n",
    "# plt.show()\n",
    "img1 = imread(truth_PATH + truth_ids[1])\n",
    "print(img1.shape)"
   ]
  },
  {
   "cell_type": "code",
   "execution_count": 11,
   "metadata": {},
   "outputs": [
    {
     "name": "stdout",
     "output_type": "stream",
     "text": [
      "2594\n",
      "2594\n"
     ]
    }
   ],
   "source": [
    "X = []\n",
    "y = []\n",
    "for f in os.listdir(input_PATH):\n",
    "    #print(f\"{f} is a input image\")\n",
    "    y.append(f)\n",
    "for i in os.listdir(truth_PATH):\n",
    "    #print(f\"{i} is an label image\")\n",
    "    X.append(i)\n",
    "\n",
    "print(len(X))\n",
    "print(len(y))"
   ]
  },
  {
   "cell_type": "code",
   "execution_count": 26,
   "metadata": {},
   "outputs": [
    {
     "name": "stderr",
     "output_type": "stream",
     "text": [
      "100%|██████████████████████████████████████████████████████████████████████████████| 2594/2594 [10:27<00:00,  4.13it/s]\n"
     ]
    }
   ],
   "source": [
    "from tqdm import tqdm\n",
    "sys.stdout.flush()\n",
    "for n, id_ in tqdm(enumerate(input_ids), total=len(input_ids)):\n",
    "    img = imread(input_PATH + id_ )   \n",
    "    img = resize(img, (image_size[0], image_size[1]), mode='constant', preserve_range=True)\n",
    "    #img = np.expand_dims(img,-1)\n",
    "    X_input[n] = img"
   ]
  },
  {
   "cell_type": "code",
   "execution_count": 30,
   "metadata": {},
   "outputs": [
    {
     "name": "stderr",
     "output_type": "stream",
     "text": [
      "100%|██████████████████████████████████████████████████████████████████████████████| 2594/2594 [02:59<00:00, 14.48it/s]\n"
     ]
    }
   ],
   "source": [
    "sys.stdout.flush()\n",
    "for n, id_ in tqdm(enumerate(truth_ids), total=len(truth_ids)):\n",
    "    label = imread(truth_PATH + id_ )\n",
    "    label = resize(label, (image_size[0], image_size[1]), mode='constant', preserve_range=True)\n",
    "    label = np.expand_dims(label,-1)\n",
    "    Y_input[n] = label"
   ]
  },
  {
   "cell_type": "code",
   "execution_count": 34,
   "metadata": {},
   "outputs": [
    {
     "name": "stdout",
     "output_type": "stream",
     "text": [
      "Requirement already satisfied: sklearn in c:\\programdata\\anaconda3\\envs\\76-env\\lib\\site-packages (0.0)\n",
      "Requirement already satisfied: scikit-learn in c:\\programdata\\anaconda3\\envs\\76-env\\lib\\site-packages (from sklearn) (0.23.2)\n",
      "Requirement already satisfied: joblib>=0.11 in c:\\programdata\\anaconda3\\envs\\76-env\\lib\\site-packages (from scikit-learn->sklearn) (0.17.0)\n",
      "Requirement already satisfied: scipy>=0.19.1 in c:\\users\\s4547877\\appdata\\roaming\\python\\python37\\site-packages (from scikit-learn->sklearn) (1.4.1)\n",
      "Requirement already satisfied: threadpoolctl>=2.0.0 in c:\\programdata\\anaconda3\\envs\\76-env\\lib\\site-packages (from scikit-learn->sklearn) (2.1.0)\n",
      "Requirement already satisfied: numpy>=1.13.3 in c:\\users\\s4547877\\appdata\\roaming\\python\\python37\\site-packages (from scikit-learn->sklearn) (1.18.5)\n"
     ]
    }
   ],
   "source": [
    "!pip install sklearn"
   ]
  },
  {
   "cell_type": "code",
   "execution_count": 47,
   "metadata": {},
   "outputs": [],
   "source": [
    "from sklearn.model_selection import train_test_split\n",
    "X_train, y_train, X_test, y_test = train_test_split(X_input,Y_input, test_size=0.20)"
   ]
  },
  {
   "cell_type": "code",
   "execution_count": 48,
   "metadata": {},
   "outputs": [
    {
     "name": "stdout",
     "output_type": "stream",
     "text": [
      "(2075, 256, 256, 3)\n"
     ]
    }
   ],
   "source": [
    "print(X_train.shape)"
   ]
  },
  {
   "cell_type": "code",
   "execution_count": null,
   "metadata": {},
   "outputs": [],
   "source": []
  }
 ],
 "metadata": {
  "kernelspec": {
   "display_name": "Python 3",
   "language": "python",
   "name": "python3"
  },
  "language_info": {
   "codemirror_mode": {
    "name": "ipython",
    "version": 3
   },
   "file_extension": ".py",
   "mimetype": "text/x-python",
   "name": "python",
   "nbconvert_exporter": "python",
   "pygments_lexer": "ipython3",
   "version": "3.7.9"
  }
 },
 "nbformat": 4,
 "nbformat_minor": 4
}
